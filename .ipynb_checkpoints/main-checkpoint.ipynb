{
 "cells": [
  {
   "cell_type": "code",
   "execution_count": 1,
   "metadata": {
    "executionInfo": {
     "elapsed": 4,
     "status": "ok",
     "timestamp": 1666808698646,
     "user": {
      "displayName": "Shubham Kalantri",
      "userId": "17599702525253480249"
     },
     "user_tz": -330
    },
    "id": "rdDprQUgifFp"
   },
   "outputs": [],
   "source": [
    "import pandas as pd\n",
    "import matplotlib.pyplot as plt"
   ]
  },
  {
   "cell_type": "code",
   "execution_count": 2,
   "metadata": {
    "executionInfo": {
     "elapsed": 420,
     "status": "ok",
     "timestamp": 1666808739734,
     "user": {
      "displayName": "Shubham Kalantri",
      "userId": "17599702525253480249"
     },
     "user_tz": -330
    },
    "id": "ysVEhJEyifFz"
   },
   "outputs": [],
   "source": [
    "class dataset:\n",
    "    def __init__(self, file):\n",
    "        self.file = file\n",
    "        self.df = pd.read_csv(file)\n",
    "    def dropRow(self, columns = []) -> None:\n",
    "        if len(columns) == 0:\n",
    "            self.df = self.df.dropna()\n",
    "        else:\n",
    "            self.df = self.df.dropna(subset = columns)\n",
    "        self.df = self.df.reset_index(drop = True)\n",
    "\n",
    "    def dropColumns(self, columns = []) -> None:\n",
    "        self.df = self.df.drop(columns, axis = 1)\n",
    "    \n",
    "    def stdDate(self, column = 'Date', format = 'ddmmyyyy') -> None:\n",
    "        fmt = '%d/%m/%Y'\n",
    "        if format.lower() in ['dd/mm/yyyy', 'dd-mm-yyyy', 'dd.mm.yyyy', 'ddmmyyyy', 'dd mm yyyy']:\n",
    "            fmt = '%d/%m/%Y'\n",
    "        elif format.lower() in ['dd/mm/yy', 'dd-mm-yy', 'dd.mm.yy', 'ddmmyy', 'dd mm yy']:\n",
    "            fmt = '%d/%m/%y'\n",
    "        elif format.lower() in ['mm/dd/yyyy', 'mm-dd-yyyy', 'mm.dd.yyyy', 'mmddyyyy', 'mm dd yyyy']:\n",
    "            fmt = '%m/%d/%Y'\n",
    "        elif format.lower() in ['mm/dd/yy', 'mm-dd-yy', 'mm.dd.yy', 'mmddyy', 'mm dd yy']:\n",
    "            fmt = '%m/%d/%y'\n",
    "        elif format.lower() in ['yyyy/mm/dd', 'yyyy-mm-dd', 'yyyy.mm.dd', 'yyyymmdd', 'yyyy mm dd']:\n",
    "            fmt = '%Y/%m/%d'\n",
    "        elif format.lower() in ['yy/mm/dd', 'yy-mm-dd', 'yy.mm.dd', 'yymmdd', 'yy mm dd']:\n",
    "            fmt = '%y/%m/%d'\n",
    "        elif format.lower() in ['yy/dd/mm', 'yy-dd-mm', 'yy.dd.mm', 'yyddmm', 'yy dd mm']:\n",
    "            fmt = '%y/%d/%m'\n",
    "        self.df[column] = pd.to_datetime(self.df[column], dayfirst = True)\n",
    "        self.df[column] = self.df[column].dt.strftime(fmt)\n",
    "\n",
    "    def savetofile(self, file, type = 'csv') -> None:\n",
    "        if type == 'csv':\n",
    "            self.df.to_csv(file + '.csv', index = False)\n",
    "        elif type == 'xlsx':\n",
    "            self.df.to_excel(file + '.xlsx', index = False)\n",
    "        elif type == 'json':\n",
    "            self.df.to_json(file + '.json', orient = 'records', index = True, date_format = 'iso', force_ascii = False)\n",
    "    \n",
    "    def dropDuplicates(self, columns = []) -> None:\n",
    "        if len(columns) == 0:\n",
    "            self.df = self.df.drop_duplicates()\n",
    "        else:\n",
    "            self.df = self.df.drop_duplicates(subset = columns, keep='first')\n",
    "    \n",
    "    def normalise(self, columns = []):\n",
    "        if len(columns) == 0:\n",
    "            self.df = (self.df - self.df.min()) / (self.df.max() - self.df.min())\n",
    "        else:\n",
    "            self.df[columns] = (self.df[columns] - self.df[columns].min()) / (self.df[columns].max() - self.df[columns].min())\n",
    "    \n",
    "    def group(self, columns=[]):\n",
    "        if len(columns)==0:\n",
    "          print(\"Provide non empty attribute arguement for groupby\")\n",
    "        else:\n",
    "          gb= self.df.groupby(columns)\n",
    "          return gb\n",
    "\n",
    "    def cleanName(self, column = 'Name') -> None:\n",
    "        self.data[column] = self.data[column].str.replace(' ', '')\n",
    "        for x in range(len(self.data[column])):\n",
    "            i = 0\n",
    "            while i < len(self.data[column][x]):\n",
    "                if self.data[column][x][i].isupper() and i != 0:\n",
    "                    self.data[column][x] = self.data[column][x][:i] + ' ' + self.data[column][x][i:]\n",
    "                    i += 1\n",
    "                i += 1"
   ]
  },
  {
   "cell_type": "code",
   "execution_count": 3,
   "metadata": {
    "executionInfo": {
     "elapsed": 8,
     "status": "ok",
     "timestamp": 1666808742026,
     "user": {
      "displayName": "Shubham Kalantri",
      "userId": "17599702525253480249"
     },
     "user_tz": -330
    },
    "id": "22RiCrZtifF2"
   },
   "outputs": [],
   "source": [
    "def getgroup(gb_obj,str):\n",
    "      if(isinstance(gb_obj,pd.core.groupby.generic.DataFrameGroupBy)):\n",
    "        gg=gb_obj.get_group(str)\n",
    "        return gg\n",
    "      else:\n",
    "        print(\"object type must be groupby to use functionality\")"
   ]
  },
  {
   "cell_type": "code",
   "execution_count": 4,
   "metadata": {
    "colab": {
     "base_uri": "https://localhost:8080/",
     "height": 328
    },
    "executionInfo": {
     "elapsed": 443,
     "status": "error",
     "timestamp": 1666808744340,
     "user": {
      "displayName": "Shubham Kalantri",
      "userId": "17599702525253480249"
     },
     "user_tz": -330
    },
    "id": "HIhkcOXKifF3",
    "outputId": "71cefe73-9f66-49e5-d753-4709898bd991"
   },
   "outputs": [
    {
     "data": {
      "text/html": [
       "<div>\n",
       "<style scoped>\n",
       "    .dataframe tbody tr th:only-of-type {\n",
       "        vertical-align: middle;\n",
       "    }\n",
       "\n",
       "    .dataframe tbody tr th {\n",
       "        vertical-align: top;\n",
       "    }\n",
       "\n",
       "    .dataframe thead th {\n",
       "        text-align: right;\n",
       "    }\n",
       "</style>\n",
       "<table border=\"1\" class=\"dataframe\">\n",
       "  <thead>\n",
       "    <tr style=\"text-align: right;\">\n",
       "      <th></th>\n",
       "      <th>Name</th>\n",
       "      <th>DOB</th>\n",
       "      <th>Email</th>\n",
       "    </tr>\n",
       "  </thead>\n",
       "  <tbody>\n",
       "    <tr>\n",
       "      <th>0</th>\n",
       "      <td>Shubham Kalantri</td>\n",
       "      <td>09-10-2002</td>\n",
       "      <td>f20201008@goa.bits-pilani.ac.in</td>\n",
       "    </tr>\n",
       "    <tr>\n",
       "      <th>1</th>\n",
       "      <td>Krishanu Shah</td>\n",
       "      <td>NaN</td>\n",
       "      <td>f20201728@goa.bits-pilani.ac.in</td>\n",
       "    </tr>\n",
       "    <tr>\n",
       "      <th>2</th>\n",
       "      <td>Saraswati Padmawar</td>\n",
       "      <td>08/10/02</td>\n",
       "      <td>NaN</td>\n",
       "    </tr>\n",
       "  </tbody>\n",
       "</table>\n",
       "</div>"
      ],
      "text/plain": [
       "                 Name         DOB                            Email\n",
       "0    Shubham Kalantri  09-10-2002  f20201008@goa.bits-pilani.ac.in\n",
       "1       Krishanu Shah         NaN  f20201728@goa.bits-pilani.ac.in\n",
       "2  Saraswati Padmawar    08/10/02                              NaN"
      ]
     },
     "execution_count": 4,
     "metadata": {},
     "output_type": "execute_result"
    }
   ],
   "source": [
    "df = dataset('dropping.csv')\n",
    "df.df"
   ]
  },
  {
   "cell_type": "code",
   "execution_count": 5,
   "metadata": {
    "id": "zhNc7QRVifF4",
    "outputId": "bb0fa75b-cff7-4fa8-895e-9960a9a34e5b"
   },
   "outputs": [
    {
     "data": {
      "text/html": [
       "<div>\n",
       "<style scoped>\n",
       "    .dataframe tbody tr th:only-of-type {\n",
       "        vertical-align: middle;\n",
       "    }\n",
       "\n",
       "    .dataframe tbody tr th {\n",
       "        vertical-align: top;\n",
       "    }\n",
       "\n",
       "    .dataframe thead th {\n",
       "        text-align: right;\n",
       "    }\n",
       "</style>\n",
       "<table border=\"1\" class=\"dataframe\">\n",
       "  <thead>\n",
       "    <tr style=\"text-align: right;\">\n",
       "      <th></th>\n",
       "      <th>Name</th>\n",
       "      <th>DOB</th>\n",
       "      <th>Email</th>\n",
       "    </tr>\n",
       "  </thead>\n",
       "  <tbody>\n",
       "    <tr>\n",
       "      <th>0</th>\n",
       "      <td>Shubham Kalantri</td>\n",
       "      <td>02/10/09</td>\n",
       "      <td>f20201008@goa.bits-pilani.ac.in</td>\n",
       "    </tr>\n",
       "    <tr>\n",
       "      <th>1</th>\n",
       "      <td>Saraswati Padmawar</td>\n",
       "      <td>02/10/08</td>\n",
       "      <td>NaN</td>\n",
       "    </tr>\n",
       "  </tbody>\n",
       "</table>\n",
       "</div>"
      ],
      "text/plain": [
       "                 Name       DOB                            Email\n",
       "0    Shubham Kalantri  02/10/09  f20201008@goa.bits-pilani.ac.in\n",
       "1  Saraswati Padmawar  02/10/08                              NaN"
      ]
     },
     "execution_count": 5,
     "metadata": {},
     "output_type": "execute_result"
    }
   ],
   "source": [
    "df.stdDate('DOB', format = 'yymmdd')\n",
    "df.dropRow(['DOB'])\n",
    "df.df"
   ]
  }
 ],
 "metadata": {
  "colab": {
   "collapsed_sections": [],
   "provenance": []
  },
  "kernelspec": {
   "display_name": "Python 3 (ipykernel)",
   "language": "python",
   "name": "python3"
  },
  "language_info": {
   "codemirror_mode": {
    "name": "ipython",
    "version": 3
   },
   "file_extension": ".py",
   "mimetype": "text/x-python",
   "name": "python",
   "nbconvert_exporter": "python",
   "pygments_lexer": "ipython3",
   "version": "3.7.13"
  },
  "vscode": {
   "interpreter": {
    "hash": "5448619defa8d0a96fd5983365ab9b457a53a0c16f1251a4bdf92d88304cd810"
   }
  }
 },
 "nbformat": 4,
 "nbformat_minor": 1
}

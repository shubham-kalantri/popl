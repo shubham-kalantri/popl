{
 "cells": [
  {
   "cell_type": "code",
   "execution_count": 1,
   "metadata": {},
   "outputs": [],
   "source": [
    "import pandas as pd"
   ]
  },
  {
   "cell_type": "code",
   "execution_count": 2,
   "metadata": {},
   "outputs": [],
   "source": [
    "df = pd.read_csv('dropping.csv')"
   ]
  },
  {
   "cell_type": "code",
   "execution_count": 3,
   "metadata": {},
   "outputs": [
    {
     "data": {
      "text/html": [
       "<div>\n",
       "<style scoped>\n",
       "    .dataframe tbody tr th:only-of-type {\n",
       "        vertical-align: middle;\n",
       "    }\n",
       "\n",
       "    .dataframe tbody tr th {\n",
       "        vertical-align: top;\n",
       "    }\n",
       "\n",
       "    .dataframe thead th {\n",
       "        text-align: right;\n",
       "    }\n",
       "</style>\n",
       "<table border=\"1\" class=\"dataframe\">\n",
       "  <thead>\n",
       "    <tr style=\"text-align: right;\">\n",
       "      <th></th>\n",
       "      <th>Name</th>\n",
       "      <th>DOB</th>\n",
       "      <th>Email</th>\n",
       "    </tr>\n",
       "  </thead>\n",
       "  <tbody>\n",
       "    <tr>\n",
       "      <th>0</th>\n",
       "      <td>Shubham Kalantri</td>\n",
       "      <td>09-10-2002</td>\n",
       "      <td>f20201008@goa.bits-pilani.ac.in</td>\n",
       "    </tr>\n",
       "    <tr>\n",
       "      <th>1</th>\n",
       "      <td>Krishanu Shah</td>\n",
       "      <td>NaN</td>\n",
       "      <td>f20201728@goa.bits-pilani.ac.in</td>\n",
       "    </tr>\n",
       "    <tr>\n",
       "      <th>2</th>\n",
       "      <td>Saraswati Padmawar</td>\n",
       "      <td>08/10/02</td>\n",
       "      <td>NaN</td>\n",
       "    </tr>\n",
       "  </tbody>\n",
       "</table>\n",
       "</div>"
      ],
      "text/plain": [
       "                 Name         DOB                            Email\n",
       "0    Shubham Kalantri  09-10-2002  f20201008@goa.bits-pilani.ac.in\n",
       "1       Krishanu Shah         NaN  f20201728@goa.bits-pilani.ac.in\n",
       "2  Saraswati Padmawar    08/10/02                              NaN"
      ]
     },
     "execution_count": 3,
     "metadata": {},
     "output_type": "execute_result"
    }
   ],
   "source": [
    "df"
   ]
  },
  {
   "cell_type": "code",
   "execution_count": 4,
   "metadata": {},
   "outputs": [
    {
     "data": {
      "text/html": [
       "<div>\n",
       "<style scoped>\n",
       "    .dataframe tbody tr th:only-of-type {\n",
       "        vertical-align: middle;\n",
       "    }\n",
       "\n",
       "    .dataframe tbody tr th {\n",
       "        vertical-align: top;\n",
       "    }\n",
       "\n",
       "    .dataframe thead th {\n",
       "        text-align: right;\n",
       "    }\n",
       "</style>\n",
       "<table border=\"1\" class=\"dataframe\">\n",
       "  <thead>\n",
       "    <tr style=\"text-align: right;\">\n",
       "      <th></th>\n",
       "      <th>Name</th>\n",
       "      <th>DOB</th>\n",
       "      <th>Email</th>\n",
       "    </tr>\n",
       "  </thead>\n",
       "  <tbody>\n",
       "    <tr>\n",
       "      <th>0</th>\n",
       "      <td>Shubham Kalantri</td>\n",
       "      <td>09-10-2002</td>\n",
       "      <td>f20201008@goa.bits-pilani.ac.in</td>\n",
       "    </tr>\n",
       "    <tr>\n",
       "      <th>1</th>\n",
       "      <td>Krishanu Shah</td>\n",
       "      <td>NaN</td>\n",
       "      <td>f20201728@goa.bits-pilani.ac.in</td>\n",
       "    </tr>\n",
       "    <tr>\n",
       "      <th>2</th>\n",
       "      <td>Saraswati Padmawar</td>\n",
       "      <td>08/10/02</td>\n",
       "      <td>NaN</td>\n",
       "    </tr>\n",
       "  </tbody>\n",
       "</table>\n",
       "</div>"
      ],
      "text/plain": [
       "                 Name         DOB                            Email\n",
       "0    Shubham Kalantri  09-10-2002  f20201008@goa.bits-pilani.ac.in\n",
       "1       Krishanu Shah         NaN  f20201728@goa.bits-pilani.ac.in\n",
       "2  Saraswati Padmawar    08/10/02                              NaN"
      ]
     },
     "execution_count": 4,
     "metadata": {},
     "output_type": "execute_result"
    }
   ],
   "source": [
    "df"
   ]
  },
  {
   "cell_type": "code",
   "execution_count": 32,
   "metadata": {},
   "outputs": [],
   "source": [
    "class dataset:\n",
    "    def __init__(self, file):\n",
    "        self.file = file\n",
    "        self.df = pd.read_csv(file)\n",
    "    def dropRow(self, columns = []) -> None:\n",
    "        if len(columns) == 0:\n",
    "            self.df = self.df.dropna()\n",
    "        else:\n",
    "            self.df = self.df.dropna(subset = columns)\n",
    "# dropColumn is a bit general, deopEmptyColumn is more specific\n",
    "    def dropColumns(self, columns = []) -> None:\n",
    "        self.df = self.df.drop(columns, axis = 1)\n",
    "    def dropEmptyColumns(self) -> None:\n",
    "        pass\n",
    "    def stdDate(self, column = 'Date', format = 'ddmmyyyy') -> None:\n",
    "        fmt = '%d/%m/%Y'\n",
    "        if format.lower() in ['dd/mm/yyyy', 'dd-mm-yyyy', 'dd.mm.yyyy', 'ddmmyyyy', 'dd mm yyyy']:\n",
    "            fmt = '%d/%m/%Y'\n",
    "        elif format.lower() in ['dd/mm/yy', 'dd-mm-yy', 'dd.mm.yy', 'ddmmyy', 'dd mm yy']:\n",
    "            fmt = '%d/%m/%y'\n",
    "        elif format.lower() in ['mm/dd/yyyy', 'mm-dd-yyyy', 'mm.dd.yyyy', 'mmddyyyy', 'mm dd yyyy']:\n",
    "            fmt = '%m/%d/%Y'\n",
    "        elif format.lower() in ['mm/dd/yy', 'mm-dd-yy', 'mm.dd.yy', 'mmddyy', 'mm dd yy']:\n",
    "            fmt = '%m/%d/%y'\n",
    "        elif format.lower() in ['yyyy/mm/dd', 'yyyy-mm-dd', 'yyyy.mm.dd', 'yyyymmdd', 'yyyy mm dd']:\n",
    "            fmt = '%Y/%m/%d'\n",
    "        elif format.lower() in ['yy/mm/dd', 'yy-mm-dd', 'yy.mm.dd', 'yymmdd', 'yy mm dd']:\n",
    "            fmt = '%y/%m/%d'\n",
    "        self.df[column] = pd.to_datetime(self.df[column])\n",
    "        self.df[column] = self.df[column].dt.strftime(fmt)\n",
    "\n",
    "    def savetofile(self, file, type = 'csv') -> None:\n",
    "        if type == 'csv':\n",
    "            self.df.to_csv(file, index = False)\n",
    "        elif type == 'xlsx':\n",
    "            self.df.to_excel(file, index = False)\n",
    "        elif type == 'json':\n",
    "            self.df.to_json(file, orient = 'table', index = False)\n",
    "    # function to remove duplicates across columns, or a group of columns\n",
    "    \n",
    "    def dropDuplicates(self, columns = []) -> None:\n",
    "        if len(columns) == 0:\n",
    "            self.df = self.df.drop_duplicates()\n",
    "        else:\n",
    "            self.df = self.df.drop_duplicates(subset = columns, keep='first')\n",
    "    \n",
    "    '''Normalise Numerical data in a dataframe. '''\n",
    "    '''Can have different methods of normalization'''\n",
    "    ''' yeah true, but I think it's better to have a function that can do both, and then have a function that can do one or the other. have a default method and then have a parameter that can be changed to do the other method. '''\n",
    "    ''' abey copilot wrote upar waala lmfao so good actually giving good ideas bey. more useful than certain group members 😭'''\n",
    "    def normalise(self, columns = []):\n",
    "        if len(columns) == 0:\n",
    "            self.df = (self.df - self.df.min()) / (self.df.max() - self.df.min())\n",
    "        else:\n",
    "            self.df[columns] = (self.df[columns] - self.df[columns].min()) / (self.df[columns].max() - self.df[columns].min())\n",
    "    \n",
    "    \n",
    "    # def cleanName(self, column = 'Name') -> None:\n",
    "    #     self.data[column] = self.data[column].str.replace(' ', '')\n",
    "    #     for x in range(len(self.data[column])):\n",
    "    #         i = 0\n",
    "    #         while i < len(self.data[column][x]):\n",
    "    #             if self.data[column][x][i].isupper() and i != 0:\n",
    "    #                 self.data[column][x] = self.data[column][x][:i] + ' ' + self.data[column][x][i:]\n",
    "    #                 i += 1\n",
    "    #             i += 1"
   ]
  },
  {
   "cell_type": "code",
   "execution_count": 33,
   "metadata": {},
   "outputs": [],
   "source": [
    "df = dataset('dropping.csv')\n",
    "df.stdDate('DOB', format = 'yyddmm')"
   ]
  },
  {
   "cell_type": "code",
   "execution_count": 34,
   "metadata": {},
   "outputs": [],
   "source": [
    "df.savetofile('dropping.xlsx', 'xlsx')\n",
    "df.savetofile('dropping.json', 'json')"
   ]
  },
  {
   "cell_type": "code",
   "execution_count": null,
   "metadata": {},
   "outputs": [],
   "source": []
  }
 ],
 "metadata": {
  "kernelspec": {
   "display_name": "popl",
   "language": "python",
   "name": "python3"
  },
  "language_info": {
   "codemirror_mode": {
    "name": "ipython",
    "version": 3
   },
   "file_extension": ".py",
   "mimetype": "text/x-python",
   "name": "python",
   "nbconvert_exporter": "python",
   "pygments_lexer": "ipython3",
   "version": "3.7.13"
  },
  "orig_nbformat": 4,
  "vscode": {
   "interpreter": {
    "hash": "de9d2b54c46a50bd6112f2b4b4e8c52bfe9360445dd0266e81d34e0ef2adc5ee"
   }
  }
 },
 "nbformat": 4,
 "nbformat_minor": 2
}
